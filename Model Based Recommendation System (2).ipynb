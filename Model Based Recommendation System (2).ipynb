{
 "cells": [
  {
   "cell_type": "markdown",
   "id": "2cba5667",
   "metadata": {},
   "source": [
    "# Model Based Collaborative Filtering\n",
    "\n",
    "<h3 style=\"color:#FA5F55;\">Using Singular Value Decomposition (SVD) </h3>\n",
    "<hr >"
   ]
  },
  {
   "cell_type": "markdown",
   "id": "08f5f670",
   "metadata": {},
   "source": [
    "Memory-based recommendation systems are not always as fast and scalable as we would like them to be and are memory intensive, especially in the context of actual systems that generate real-time recommendations on the basis of very large datasets. To achieve these goals, model-based recommendation systems are used.\n",
    "\n",
    "Model-based recommendation systems involve building a model based on the dataset of ratings. In other words, we extract some information from the dataset, and use that as a \"model\" to make recommendations without having to use the complete dataset every time. This approach offers the benefits of both speed and scalability.\n",
    "\n",
    "Below is a simple implementation of Model based system using SVD."
   ]
  },
  {
   "cell_type": "code",
   "execution_count": 3,
   "id": "c392bb1e",
   "metadata": {},
   "outputs": [],
   "source": [
    "!pip install surprise --q"
   ]
  },
  {
   "cell_type": "code",
   "execution_count": 13,
   "id": "b0e5b275",
   "metadata": {},
   "outputs": [],
   "source": [
    "# Importing necessary packages\n",
    "from surprise import SVD\n",
    "from surprise import Dataset\n",
    "from surprise import accuracy\n",
    "from surprise.model_selection import train_test_split"
   ]
  },
  {
   "cell_type": "markdown",
   "id": "8e407bfd",
   "metadata": {},
   "source": [
    "#### Surprise\n",
    "In Surprise, there are three models: SVD, SVDpp, and NMF, out of which we employ SVD. NMF is a simplified version, ignoring user and item biases. SVDpp adds a feature where you also separately keep track of whether the user rated the item or not."
   ]
  },
  {
   "cell_type": "code",
   "execution_count": 14,
   "id": "edf22113",
   "metadata": {
    "scrolled": true
   },
   "outputs": [],
   "source": [
    "# Load the movielens dataset\n",
    "data = Dataset.load_builtin('ml-100k')"
   ]
  },
  {
   "cell_type": "code",
   "execution_count": 15,
   "id": "3fc3cd3d",
   "metadata": {},
   "outputs": [],
   "source": [
    "# Splitting data for training and testing\n",
    "trainset, testset = train_test_split(data, test_size=.20)"
   ]
  },
  {
   "cell_type": "code",
   "execution_count": 16,
   "id": "7540cab4",
   "metadata": {},
   "outputs": [],
   "source": [
    "# Initializing SVD Algorithm\n",
    "# Breaks into three matrices\n",
    "model = SVD()"
   ]
  },
  {
   "cell_type": "code",
   "execution_count": 17,
   "id": "0aa7ad72",
   "metadata": {},
   "outputs": [
    {
     "data": {
      "text/plain": [
       "<surprise.prediction_algorithms.matrix_factorization.SVD at 0x251a5407310>"
      ]
     },
     "execution_count": 17,
     "metadata": {},
     "output_type": "execute_result"
    }
   ],
   "source": [
    "# Fitting the model\n",
    "model.fit(trainset)"
   ]
  },
  {
   "cell_type": "code",
   "execution_count": 18,
   "id": "db6ca885",
   "metadata": {},
   "outputs": [
    {
     "name": "stdout",
     "output_type": "stream",
     "text": [
      "RMSE: 0.9368\n"
     ]
    },
    {
     "data": {
      "text/plain": [
       "0.9368492335327254"
      ]
     },
     "execution_count": 18,
     "metadata": {},
     "output_type": "execute_result"
    }
   ],
   "source": [
    "# Making predictions\n",
    "predictions = model.test(testset)\n",
    "\n",
    "# Computing error in terms of RMSE\n",
    "accuracy.rmse(predictions)"
   ]
  },
  {
   "cell_type": "code",
   "execution_count": 19,
   "id": "a069f7d1",
   "metadata": {},
   "outputs": [],
   "source": [
    "# Predicting rating for a user for a movie\n",
    "# uid = user id, iid = item/movie id\n",
    "uid = str(456)\n",
    "iid = str(131)"
   ]
  },
  {
   "cell_type": "code",
   "execution_count": 20,
   "id": "36a264af",
   "metadata": {},
   "outputs": [],
   "source": [
    "# Predicting for specific users and items\n",
    "pred = model.predict(uid, iid)"
   ]
  },
  {
   "cell_type": "code",
   "execution_count": 21,
   "id": "9ce1ca80",
   "metadata": {},
   "outputs": [
    {
     "data": {
      "text/plain": [
       "3.9418022469094134"
      ]
     },
     "execution_count": 21,
     "metadata": {},
     "output_type": "execute_result"
    }
   ],
   "source": [
    "# View predicting rating\n",
    "pred.est"
   ]
  },
  {
   "cell_type": "markdown",
   "id": "2e3c9ebf",
   "metadata": {},
   "source": [
    "This means that the user with uid=456 will rate movie with iid=131 as 3.9, which means we may recommend this movie to the user."
   ]
  },
  {
   "cell_type": "markdown",
   "id": "97396405",
   "metadata": {},
   "source": [
    "#### Other approaches\n",
    "Within model based filtering, the model building process may be performed by different machine learning algorithms such as Bayesian network, clustering, and rule-based approaches. \n",
    "\n",
    "- The Bayesian network model formulates a probabilistic model for collaborative filtering problem. \n",
    "\n",
    "- The clustering model treats collaborative filtering as a classification problem and works by clustering similar users in same class and estimating the probability that a particular user is in a particular class C, and from there computes the conditional probability of ratings. \n",
    "\n",
    "- The rule-based approach applies association rule discovery algorithms to find association between co-purchased items and then generates item recommendation based on the strength of the association between items"
   ]
  }
 ],
 "metadata": {
  "kernelspec": {
   "display_name": "Python 3 (ipykernel)",
   "language": "python",
   "name": "python3"
  },
  "language_info": {
   "codemirror_mode": {
    "name": "ipython",
    "version": 3
   },
   "file_extension": ".py",
   "mimetype": "text/x-python",
   "name": "python",
   "nbconvert_exporter": "python",
   "pygments_lexer": "ipython3",
   "version": "3.9.12"
  }
 },
 "nbformat": 4,
 "nbformat_minor": 5
}
